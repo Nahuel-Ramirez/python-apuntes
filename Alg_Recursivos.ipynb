{
  "nbformat": 4,
  "nbformat_minor": 0,
  "metadata": {
    "colab": {
      "provenance": [],
      "authorship_tag": "ABX9TyOdzHvlhe14r0V2IVFggARA",
      "include_colab_link": true
    },
    "kernelspec": {
      "name": "python3",
      "display_name": "Python 3"
    },
    "language_info": {
      "name": "python"
    }
  },
  "cells": [
    {
      "cell_type": "markdown",
      "metadata": {
        "id": "view-in-github",
        "colab_type": "text"
      },
      "source": [
        "<a href=\"https://colab.research.google.com/github/Nahuel-Ramirez/python-apuntes/blob/main/Alg_Recursivos.ipynb\" target=\"_parent\"><img src=\"https://colab.research.google.com/assets/colab-badge.svg\" alt=\"Open In Colab\"/></a>"
      ]
    },
    {
      "cell_type": "markdown",
      "source": [
        "##Algoritmos recursivos\n",
        "\n",
        "Se trata de un modelo matematico cuya definicion incluye a si mismo \"se autodefine\". Es decir, se llama a si misma repetidamente hasta que satisface una determinada condicion que hace finalizar ese algoritmo, por el contrario caeria en un bucle infinito.\n",
        "\n",
        "1 - Debe tener al menos una condicion clara de fin o caso base del problema, puede tener mas de una de ser necesario.\n",
        "\n",
        "2 - Debe llamarse a si mismo.\n",
        "\n",
        "Los algoritmos recursivos pueden clasificarse en **directos** o **indirectos**.\n",
        "\n",
        "Los **directos** se llaman a si mismo, mientras que los **indirectos** llaman a un algoritmo *intermedio* y este llama al algoritmo inicial para generar recursividad.\n",
        "\n"
      ],
      "metadata": {
        "id": "gKfXhuDxneZ3"
      }
    },
    {
      "cell_type": "markdown",
      "source": [
        "##Ejemplos de algoritmos recursivos\n"
      ],
      "metadata": {
        "id": "K0bSzJdmn3Bb"
      }
    },
    {
      "cell_type": "markdown",
      "source": [
        "###Factorial\n",
        "\n",
        "Sabemos que si queremos obtener el factorial de 5 (n=5)\n",
        "\n",
        "5! = 5 * 4 * 3 * 2 * 1\n",
        "\n",
        "Pero si lo pensamos de manera recursiva, tenemos que descomponer el problema en problemas mas pequeños y resolver el problema en cada llamada (que quedara pendiente hasta que alcance el caso base del problema).\n",
        "\n",
        "Entonces podriamos verlo de la siguiente manera:\n",
        "\n",
        "5! = 5 * 4! --> Llamada recursiva (pendiente de espera solucion 4!)\n",
        "\n",
        "4! = 4 * 3! --> Llamada recursiva (pendiente de espera solucion 3!)\n",
        "\n",
        "3! = 3 * 2! --> Llamada recursiva (pendiente de espera solucion 2!)\n",
        "\n",
        "2! = 2 * 1! --> Llamada recursiva (pendiente de espera solucion 1!)\n",
        "\n",
        "1! = 1 * 0! --> Llamada recursiva (pendiente de espera solucion 0!)\n",
        "\n",
        "0! = 1 --> Caso base, fin de llamada recursiva. \n",
        "\n",
        "Una vez que se alcanza la condicion de fin o caso base, se empiezan a resolver las llamadas recursivas previas que quedaron pendientes:"
      ],
      "metadata": {
        "id": "E63PAaqon97H"
      }
    },
    {
      "cell_type": "code",
      "source": [
        "from google.colab import files\n",
        "file = files.upload()"
      ],
      "metadata": {
        "colab": {
          "base_uri": "https://localhost:8080/",
          "height": 73
        },
        "id": "g9v0D-hCxLWf",
        "outputId": "4a97626b-10f1-4cb5-891c-e8aaa2793305"
      },
      "execution_count": 41,
      "outputs": [
        {
          "output_type": "display_data",
          "data": {
            "text/plain": [
              "<IPython.core.display.HTML object>"
            ],
            "text/html": [
              "\n",
              "     <input type=\"file\" id=\"files-cca53b73-f29d-4da1-9935-26d37411084c\" name=\"files[]\" multiple disabled\n",
              "        style=\"border:none\" />\n",
              "     <output id=\"result-cca53b73-f29d-4da1-9935-26d37411084c\">\n",
              "      Upload widget is only available when the cell has been executed in the\n",
              "      current browser session. Please rerun this cell to enable.\n",
              "      </output>\n",
              "      <script>// Copyright 2017 Google LLC\n",
              "//\n",
              "// Licensed under the Apache License, Version 2.0 (the \"License\");\n",
              "// you may not use this file except in compliance with the License.\n",
              "// You may obtain a copy of the License at\n",
              "//\n",
              "//      http://www.apache.org/licenses/LICENSE-2.0\n",
              "//\n",
              "// Unless required by applicable law or agreed to in writing, software\n",
              "// distributed under the License is distributed on an \"AS IS\" BASIS,\n",
              "// WITHOUT WARRANTIES OR CONDITIONS OF ANY KIND, either express or implied.\n",
              "// See the License for the specific language governing permissions and\n",
              "// limitations under the License.\n",
              "\n",
              "/**\n",
              " * @fileoverview Helpers for google.colab Python module.\n",
              " */\n",
              "(function(scope) {\n",
              "function span(text, styleAttributes = {}) {\n",
              "  const element = document.createElement('span');\n",
              "  element.textContent = text;\n",
              "  for (const key of Object.keys(styleAttributes)) {\n",
              "    element.style[key] = styleAttributes[key];\n",
              "  }\n",
              "  return element;\n",
              "}\n",
              "\n",
              "// Max number of bytes which will be uploaded at a time.\n",
              "const MAX_PAYLOAD_SIZE = 100 * 1024;\n",
              "\n",
              "function _uploadFiles(inputId, outputId) {\n",
              "  const steps = uploadFilesStep(inputId, outputId);\n",
              "  const outputElement = document.getElementById(outputId);\n",
              "  // Cache steps on the outputElement to make it available for the next call\n",
              "  // to uploadFilesContinue from Python.\n",
              "  outputElement.steps = steps;\n",
              "\n",
              "  return _uploadFilesContinue(outputId);\n",
              "}\n",
              "\n",
              "// This is roughly an async generator (not supported in the browser yet),\n",
              "// where there are multiple asynchronous steps and the Python side is going\n",
              "// to poll for completion of each step.\n",
              "// This uses a Promise to block the python side on completion of each step,\n",
              "// then passes the result of the previous step as the input to the next step.\n",
              "function _uploadFilesContinue(outputId) {\n",
              "  const outputElement = document.getElementById(outputId);\n",
              "  const steps = outputElement.steps;\n",
              "\n",
              "  const next = steps.next(outputElement.lastPromiseValue);\n",
              "  return Promise.resolve(next.value.promise).then((value) => {\n",
              "    // Cache the last promise value to make it available to the next\n",
              "    // step of the generator.\n",
              "    outputElement.lastPromiseValue = value;\n",
              "    return next.value.response;\n",
              "  });\n",
              "}\n",
              "\n",
              "/**\n",
              " * Generator function which is called between each async step of the upload\n",
              " * process.\n",
              " * @param {string} inputId Element ID of the input file picker element.\n",
              " * @param {string} outputId Element ID of the output display.\n",
              " * @return {!Iterable<!Object>} Iterable of next steps.\n",
              " */\n",
              "function* uploadFilesStep(inputId, outputId) {\n",
              "  const inputElement = document.getElementById(inputId);\n",
              "  inputElement.disabled = false;\n",
              "\n",
              "  const outputElement = document.getElementById(outputId);\n",
              "  outputElement.innerHTML = '';\n",
              "\n",
              "  const pickedPromise = new Promise((resolve) => {\n",
              "    inputElement.addEventListener('change', (e) => {\n",
              "      resolve(e.target.files);\n",
              "    });\n",
              "  });\n",
              "\n",
              "  const cancel = document.createElement('button');\n",
              "  inputElement.parentElement.appendChild(cancel);\n",
              "  cancel.textContent = 'Cancel upload';\n",
              "  const cancelPromise = new Promise((resolve) => {\n",
              "    cancel.onclick = () => {\n",
              "      resolve(null);\n",
              "    };\n",
              "  });\n",
              "\n",
              "  // Wait for the user to pick the files.\n",
              "  const files = yield {\n",
              "    promise: Promise.race([pickedPromise, cancelPromise]),\n",
              "    response: {\n",
              "      action: 'starting',\n",
              "    }\n",
              "  };\n",
              "\n",
              "  cancel.remove();\n",
              "\n",
              "  // Disable the input element since further picks are not allowed.\n",
              "  inputElement.disabled = true;\n",
              "\n",
              "  if (!files) {\n",
              "    return {\n",
              "      response: {\n",
              "        action: 'complete',\n",
              "      }\n",
              "    };\n",
              "  }\n",
              "\n",
              "  for (const file of files) {\n",
              "    const li = document.createElement('li');\n",
              "    li.append(span(file.name, {fontWeight: 'bold'}));\n",
              "    li.append(span(\n",
              "        `(${file.type || 'n/a'}) - ${file.size} bytes, ` +\n",
              "        `last modified: ${\n",
              "            file.lastModifiedDate ? file.lastModifiedDate.toLocaleDateString() :\n",
              "                                    'n/a'} - `));\n",
              "    const percent = span('0% done');\n",
              "    li.appendChild(percent);\n",
              "\n",
              "    outputElement.appendChild(li);\n",
              "\n",
              "    const fileDataPromise = new Promise((resolve) => {\n",
              "      const reader = new FileReader();\n",
              "      reader.onload = (e) => {\n",
              "        resolve(e.target.result);\n",
              "      };\n",
              "      reader.readAsArrayBuffer(file);\n",
              "    });\n",
              "    // Wait for the data to be ready.\n",
              "    let fileData = yield {\n",
              "      promise: fileDataPromise,\n",
              "      response: {\n",
              "        action: 'continue',\n",
              "      }\n",
              "    };\n",
              "\n",
              "    // Use a chunked sending to avoid message size limits. See b/62115660.\n",
              "    let position = 0;\n",
              "    do {\n",
              "      const length = Math.min(fileData.byteLength - position, MAX_PAYLOAD_SIZE);\n",
              "      const chunk = new Uint8Array(fileData, position, length);\n",
              "      position += length;\n",
              "\n",
              "      const base64 = btoa(String.fromCharCode.apply(null, chunk));\n",
              "      yield {\n",
              "        response: {\n",
              "          action: 'append',\n",
              "          file: file.name,\n",
              "          data: base64,\n",
              "        },\n",
              "      };\n",
              "\n",
              "      let percentDone = fileData.byteLength === 0 ?\n",
              "          100 :\n",
              "          Math.round((position / fileData.byteLength) * 100);\n",
              "      percent.textContent = `${percentDone}% done`;\n",
              "\n",
              "    } while (position < fileData.byteLength);\n",
              "  }\n",
              "\n",
              "  // All done.\n",
              "  yield {\n",
              "    response: {\n",
              "      action: 'complete',\n",
              "    }\n",
              "  };\n",
              "}\n",
              "\n",
              "scope.google = scope.google || {};\n",
              "scope.google.colab = scope.google.colab || {};\n",
              "scope.google.colab._files = {\n",
              "  _uploadFiles,\n",
              "  _uploadFilesContinue,\n",
              "};\n",
              "})(self);\n",
              "</script> "
            ]
          },
          "metadata": {}
        },
        {
          "output_type": "stream",
          "name": "stdout",
          "text": [
            "Saving factorial-recursivo.xlsx to factorial-recursivo (1).xlsx\n"
          ]
        }
      ]
    },
    {
      "cell_type": "code",
      "source": [
        "import pandas as pd\n",
        "\n",
        "soluc = pd.read_excel(\"./factorial-recursivo.xlsx\")\n",
        "soluc"
      ],
      "metadata": {
        "colab": {
          "base_uri": "https://localhost:8080/",
          "height": 238
        },
        "id": "VHaCCN6ZzJwZ",
        "outputId": "1da0892b-f16f-4077-d207-81aa72dc3c06"
      },
      "execution_count": 42,
      "outputs": [
        {
          "output_type": "execute_result",
          "data": {
            "text/plain": [
              "  Problema Solucion Parcial                                    Solucion\n",
              "0       0!               0!                         1(condicion de fin)\n",
              "1       1!           1 * 0!     1 * 1 = 1 (utilizando resultado de 0!) \n",
              "2       2!           2 * 1!     2 * 1 = 2 (utilizando resultado de 0!) \n",
              "3       3!           3 * 2!     3 * 2 = 6 (utilizando resultado de 0!) \n",
              "4       4!           4 * 3!    4 * 6 = 24 (utilizando resultado de 0!) \n",
              "5       5!           5 * 4!  5 * 24 = 120 (utilizando resultado de 0!) "
            ],
            "text/html": [
              "\n",
              "  <div id=\"df-9260d46f-6f6c-4583-9d2f-f55a106f7586\">\n",
              "    <div class=\"colab-df-container\">\n",
              "      <div>\n",
              "<style scoped>\n",
              "    .dataframe tbody tr th:only-of-type {\n",
              "        vertical-align: middle;\n",
              "    }\n",
              "\n",
              "    .dataframe tbody tr th {\n",
              "        vertical-align: top;\n",
              "    }\n",
              "\n",
              "    .dataframe thead th {\n",
              "        text-align: right;\n",
              "    }\n",
              "</style>\n",
              "<table border=\"1\" class=\"dataframe\">\n",
              "  <thead>\n",
              "    <tr style=\"text-align: right;\">\n",
              "      <th></th>\n",
              "      <th>Problema</th>\n",
              "      <th>Solucion Parcial</th>\n",
              "      <th>Solucion</th>\n",
              "    </tr>\n",
              "  </thead>\n",
              "  <tbody>\n",
              "    <tr>\n",
              "      <th>0</th>\n",
              "      <td>0!</td>\n",
              "      <td>0!</td>\n",
              "      <td>1(condicion de fin)</td>\n",
              "    </tr>\n",
              "    <tr>\n",
              "      <th>1</th>\n",
              "      <td>1!</td>\n",
              "      <td>1 * 0!</td>\n",
              "      <td>1 * 1 = 1 (utilizando resultado de 0!)</td>\n",
              "    </tr>\n",
              "    <tr>\n",
              "      <th>2</th>\n",
              "      <td>2!</td>\n",
              "      <td>2 * 1!</td>\n",
              "      <td>2 * 1 = 2 (utilizando resultado de 0!)</td>\n",
              "    </tr>\n",
              "    <tr>\n",
              "      <th>3</th>\n",
              "      <td>3!</td>\n",
              "      <td>3 * 2!</td>\n",
              "      <td>3 * 2 = 6 (utilizando resultado de 0!)</td>\n",
              "    </tr>\n",
              "    <tr>\n",
              "      <th>4</th>\n",
              "      <td>4!</td>\n",
              "      <td>4 * 3!</td>\n",
              "      <td>4 * 6 = 24 (utilizando resultado de 0!)</td>\n",
              "    </tr>\n",
              "    <tr>\n",
              "      <th>5</th>\n",
              "      <td>5!</td>\n",
              "      <td>5 * 4!</td>\n",
              "      <td>5 * 24 = 120 (utilizando resultado de 0!)</td>\n",
              "    </tr>\n",
              "  </tbody>\n",
              "</table>\n",
              "</div>\n",
              "      <button class=\"colab-df-convert\" onclick=\"convertToInteractive('df-9260d46f-6f6c-4583-9d2f-f55a106f7586')\"\n",
              "              title=\"Convert this dataframe to an interactive table.\"\n",
              "              style=\"display:none;\">\n",
              "        \n",
              "  <svg xmlns=\"http://www.w3.org/2000/svg\" height=\"24px\"viewBox=\"0 0 24 24\"\n",
              "       width=\"24px\">\n",
              "    <path d=\"M0 0h24v24H0V0z\" fill=\"none\"/>\n",
              "    <path d=\"M18.56 5.44l.94 2.06.94-2.06 2.06-.94-2.06-.94-.94-2.06-.94 2.06-2.06.94zm-11 1L8.5 8.5l.94-2.06 2.06-.94-2.06-.94L8.5 2.5l-.94 2.06-2.06.94zm10 10l.94 2.06.94-2.06 2.06-.94-2.06-.94-.94-2.06-.94 2.06-2.06.94z\"/><path d=\"M17.41 7.96l-1.37-1.37c-.4-.4-.92-.59-1.43-.59-.52 0-1.04.2-1.43.59L10.3 9.45l-7.72 7.72c-.78.78-.78 2.05 0 2.83L4 21.41c.39.39.9.59 1.41.59.51 0 1.02-.2 1.41-.59l7.78-7.78 2.81-2.81c.8-.78.8-2.07 0-2.86zM5.41 20L4 18.59l7.72-7.72 1.47 1.35L5.41 20z\"/>\n",
              "  </svg>\n",
              "      </button>\n",
              "      \n",
              "  <style>\n",
              "    .colab-df-container {\n",
              "      display:flex;\n",
              "      flex-wrap:wrap;\n",
              "      gap: 12px;\n",
              "    }\n",
              "\n",
              "    .colab-df-convert {\n",
              "      background-color: #E8F0FE;\n",
              "      border: none;\n",
              "      border-radius: 50%;\n",
              "      cursor: pointer;\n",
              "      display: none;\n",
              "      fill: #1967D2;\n",
              "      height: 32px;\n",
              "      padding: 0 0 0 0;\n",
              "      width: 32px;\n",
              "    }\n",
              "\n",
              "    .colab-df-convert:hover {\n",
              "      background-color: #E2EBFA;\n",
              "      box-shadow: 0px 1px 2px rgba(60, 64, 67, 0.3), 0px 1px 3px 1px rgba(60, 64, 67, 0.15);\n",
              "      fill: #174EA6;\n",
              "    }\n",
              "\n",
              "    [theme=dark] .colab-df-convert {\n",
              "      background-color: #3B4455;\n",
              "      fill: #D2E3FC;\n",
              "    }\n",
              "\n",
              "    [theme=dark] .colab-df-convert:hover {\n",
              "      background-color: #434B5C;\n",
              "      box-shadow: 0px 1px 3px 1px rgba(0, 0, 0, 0.15);\n",
              "      filter: drop-shadow(0px 1px 2px rgba(0, 0, 0, 0.3));\n",
              "      fill: #FFFFFF;\n",
              "    }\n",
              "  </style>\n",
              "\n",
              "      <script>\n",
              "        const buttonEl =\n",
              "          document.querySelector('#df-9260d46f-6f6c-4583-9d2f-f55a106f7586 button.colab-df-convert');\n",
              "        buttonEl.style.display =\n",
              "          google.colab.kernel.accessAllowed ? 'block' : 'none';\n",
              "\n",
              "        async function convertToInteractive(key) {\n",
              "          const element = document.querySelector('#df-9260d46f-6f6c-4583-9d2f-f55a106f7586');\n",
              "          const dataTable =\n",
              "            await google.colab.kernel.invokeFunction('convertToInteractive',\n",
              "                                                     [key], {});\n",
              "          if (!dataTable) return;\n",
              "\n",
              "          const docLinkHtml = 'Like what you see? Visit the ' +\n",
              "            '<a target=\"_blank\" href=https://colab.research.google.com/notebooks/data_table.ipynb>data table notebook</a>'\n",
              "            + ' to learn more about interactive tables.';\n",
              "          element.innerHTML = '';\n",
              "          dataTable['output_type'] = 'display_data';\n",
              "          await google.colab.output.renderOutput(dataTable, element);\n",
              "          const docLink = document.createElement('div');\n",
              "          docLink.innerHTML = docLinkHtml;\n",
              "          element.appendChild(docLink);\n",
              "        }\n",
              "      </script>\n",
              "    </div>\n",
              "  </div>\n",
              "  "
            ]
          },
          "metadata": {},
          "execution_count": 42
        }
      ]
    },
    {
      "cell_type": "code",
      "source": [
        "##Solucion al problema en python:\n",
        "\n",
        "def factorial(numero):\n",
        "  if(numero == 0):\n",
        "    return 1\n",
        "  else:\n",
        "    return numero * factorial(numero - 1)\n",
        "\n",
        "factorial(5) #Resultado = 120"
      ],
      "metadata": {
        "colab": {
          "base_uri": "https://localhost:8080/"
        },
        "id": "M9bCmcLf04ff",
        "outputId": "2896da3b-f1e2-4fc8-ef08-4427be2deeb4"
      },
      "execution_count": 43,
      "outputs": [
        {
          "output_type": "execute_result",
          "data": {
            "text/plain": [
              "120"
            ]
          },
          "metadata": {},
          "execution_count": 43
        }
      ]
    },
    {
      "cell_type": "markdown",
      "source": [
        "###Fibonacci\n",
        "Veamos otro ejemplo de algoritmos recursivos, el del fibonacci.\n",
        "\n",
        "Recordemos que el calculo de fibonacci es que cada numero en esa sucesion es igual a la suma de los numeros anteriores:\n",
        "\n",
        "0, 1, 1, 2, 3, 5, 8, 13, 21, etc.\n",
        "\n",
        "0 + 1 = 1. 1 + 1 = 2. 1 + 2 = 3, etc\n",
        "\n",
        "Este algoritmo se puede realizar de dos maneras:\n",
        "\n",
        "Una es a traves de un algoritmo **recursivo**\n",
        "\n",
        "Y la otra a traves de un algoritmo **iterativo**"
      ],
      "metadata": {
        "id": "5PledNww2C12"
      }
    },
    {
      "cell_type": "code",
      "source": [
        "#Fibonacci recursivo\n",
        "\n",
        "def fibonacciR(n):\n",
        "  if(n == 0 or n == 1):\n",
        "    return n\n",
        "  else:\n",
        "    return fibonacciR(n - 1) + fibonacciR(n - 2)\n",
        "\n",
        "fibonacciR(8)"
      ],
      "metadata": {
        "colab": {
          "base_uri": "https://localhost:8080/"
        },
        "id": "HYHEfk893vFK",
        "outputId": "1e4bd1fb-ea9b-42e0-9406-566e458c9835"
      },
      "execution_count": 44,
      "outputs": [
        {
          "output_type": "execute_result",
          "data": {
            "text/plain": [
              "21"
            ]
          },
          "metadata": {},
          "execution_count": 44
        }
      ]
    },
    {
      "cell_type": "code",
      "source": [
        "#Fibonacci iterativo\n",
        "\n",
        "def fibonacciI(n):\n",
        "  n0 = 0\n",
        "  n1 = 1\n",
        "  fib = 0\n",
        "  if(n == 0 or n == 1):\n",
        "    fib = n\n",
        "  else:\n",
        "    i = 2\n",
        "    while(i <= n):\n",
        "      fib = n0 + n1\n",
        "      n0 = n1\n",
        "      n1 = fib\n",
        "      i += 1\n",
        "  return fib\n",
        "\n",
        "fibonacciI(50)"
      ],
      "metadata": {
        "colab": {
          "base_uri": "https://localhost:8080/"
        },
        "id": "_NISMPBo-Bj9",
        "outputId": "3f530442-e460-4562-e843-2cfd7f6434fe"
      },
      "execution_count": 45,
      "outputs": [
        {
          "output_type": "execute_result",
          "data": {
            "text/plain": [
              "12586269025"
            ]
          },
          "metadata": {},
          "execution_count": 45
        }
      ]
    },
    {
      "cell_type": "markdown",
      "source": [
        "La diferencia entre un algoritmo recursivo y uno iterativo a simple vista es que podemos ver que un algoritmo recursivo resuelve el mismo problema en mucho menos lineas de codigo.\n",
        "\n",
        "Pero este algoritmo recursivo tiene un problema, y es que si necesitamos de muchas llamadas recursivas para llegar al caso base podria desbordar la pila de memoria disponible para esta actividad.\n",
        "\n",
        "De hecho en este ejercicio de fibonacci, si queremos pasarle el numero 50 como argumento a las dos funciones, notamos que la funcion recursiva no funciona, tarda mucho en solucionar el problema, mientras que la iterativa en cuestion de segundos retorna el valor correcto.\n",
        "\n"
      ],
      "metadata": {
        "id": "25Wu3A2j_p_9"
      }
    },
    {
      "cell_type": "markdown",
      "source": [
        "###Mas ejercicios\n",
        "\n",
        "Implementar una función que calcule la suma de todos los números enteros comprendidos\n",
        "entre cero y un número entero positivo dado.\n"
      ],
      "metadata": {
        "id": "MNqtGfM8BACE"
      }
    },
    {
      "cell_type": "code",
      "source": [
        "def sumNum(n):\n",
        "  if(n <= 0):\n",
        "    return n\n",
        "  else:\n",
        "    return n + sumNum(n - 1)\n",
        "\n",
        "sumNum(5)"
      ],
      "metadata": {
        "colab": {
          "base_uri": "https://localhost:8080/"
        },
        "id": "84EGeZWgBCfE",
        "outputId": "36ca2bee-1742-4fc4-c905-9fb5bf1582bf"
      },
      "execution_count": 46,
      "outputs": [
        {
          "output_type": "execute_result",
          "data": {
            "text/plain": [
              "15"
            ]
          },
          "metadata": {},
          "execution_count": 46
        }
      ]
    },
    {
      "cell_type": "markdown",
      "source": [
        "- Dada una secuencia de caracteres, obtener dicha secuencia invertida."
      ],
      "metadata": {
        "id": "nTmUF5Y3Hn_E"
      }
    },
    {
      "cell_type": "code",
      "source": [],
      "metadata": {
        "id": "hyhLB4N3H9sg"
      },
      "execution_count": 46,
      "outputs": []
    },
    {
      "cell_type": "markdown",
      "source": [
        "- Desarrollar un algoritmo que cuente la cantidad de dígitos de un número entero."
      ],
      "metadata": {
        "id": "fTuJE2vPHoql"
      }
    },
    {
      "cell_type": "code",
      "source": [],
      "metadata": {
        "id": "47P91yVRH-NI"
      },
      "execution_count": 46,
      "outputs": []
    },
    {
      "cell_type": "markdown",
      "source": [
        "- Desarrollar un algoritmo que invierta un número entero sin convertirlo a cadena."
      ],
      "metadata": {
        "id": "D6A_vA81HsC3"
      }
    },
    {
      "cell_type": "code",
      "source": [],
      "metadata": {
        "id": "-4ekYfB2H-sI"
      },
      "execution_count": 46,
      "outputs": []
    },
    {
      "cell_type": "markdown",
      "source": [
        "- Desarrollar un algoritmo que permita realizar la suma de los dígitos de un número entero, no\n",
        "se puede convertir el número a cadena."
      ],
      "metadata": {
        "id": "Tj1bpgcWHyjM"
      }
    },
    {
      "cell_type": "code",
      "source": [],
      "metadata": {
        "id": "HA6XTyUpH_KB"
      },
      "execution_count": 46,
      "outputs": []
    }
  ]
}